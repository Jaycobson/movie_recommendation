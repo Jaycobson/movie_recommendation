{
 "cells": [
  {
   "cell_type": "code",
   "execution_count": 1,
   "metadata": {},
   "outputs": [],
   "source": [
    "from pathlib import Path\n",
    "import numpy as np\n",
    "import pandas as pd\n",
    "import pandas as pd\n",
    "from sklearn.feature_extraction.text import TfidfVectorizer\n",
    "from sklearn.metrics.pairwise import cosine_similarity"
   ]
  },
  {
   "cell_type": "code",
   "execution_count": 2,
   "metadata": {},
   "outputs": [],
   "source": [
    "movie_path = Path('../data/cleaned_data.csv') #movie_path\n",
    "\n",
    "# Loading movies data\n",
    "movies = pd.read_csv(movie_path)"
   ]
  },
  {
   "cell_type": "code",
   "execution_count": 3,
   "metadata": {},
   "outputs": [],
   "source": [
    "tfidf_vectorizer = TfidfVectorizer(stop_words='english')\n",
    "tfidf_matrix = tfidf_vectorizer.fit_transform(movies['combined_features'])\n",
    "\n",
    "cosine_sim = cosine_similarity(tfidf_matrix, tfidf_matrix)\n",
    "\n",
    "\n",
    "def recommend_movies(movie_title, top_n=10):\n",
    "    idx = movies[movies['title'].str.lower() == movie_title.lower()].index[0]\n",
    "    sim_scores = list(enumerate(cosine_sim[idx]))\n",
    "    sim_scores = sorted(sim_scores, key=lambda x: x[1], reverse=True)\n",
    "    sim_scores = sim_scores[1:top_n+1]\n",
    "    \n",
    "    movie_indices = [i[0] for i in sim_scores]\n",
    "    recommended_titles = movies['title'].iloc[movie_indices].values\n",
    "    return recommended_titles\n"
   ]
  },
  {
   "cell_type": "code",
   "execution_count": 4,
   "metadata": {},
   "outputs": [
    {
     "name": "stdout",
     "output_type": "stream",
     "text": [
      "Recommended Movies:\n",
      "Guardians of the Galaxy\n",
      "Alien\n",
      "Galaxy Quest\n",
      "Star Trek Beyond\n",
      "Star Trek Into Darkness\n",
      "Space Dogs\n",
      "Gravity\n",
      "Alien³\n",
      "Aliens\n",
      "Cargo\n"
     ]
    }
   ],
   "source": [
    "movie_title = \"Avatar\"\n",
    "recommended_movies = recommend_movies(movie_title, top_n=10)\n",
    "print(\"Recommended Movies:\")\n",
    "for movie in recommended_movies:\n",
    "    print(movie)"
   ]
  },
  {
   "cell_type": "code",
   "execution_count": 5,
   "metadata": {},
   "outputs": [],
   "source": [
    "def recommend_movies_by_popularity(movie_title, top_n=10):\n",
    "    movie_genre = movies[movies['title'].str.lower() == movie_title.lower()]['genres'].values[0]\n",
    "    similar_genre_movies = movies[movies['genres'].str.contains(movie_genre, case=False, na=False)]\n",
    "    recommended = similar_genre_movies.sort_values(by='vote_average', ascending=False).head(top_n)\n",
    "    \n",
    "    return recommended['title'].values\n"
   ]
  },
  {
   "cell_type": "code",
   "execution_count": 6,
   "metadata": {},
   "outputs": [
    {
     "name": "stdout",
     "output_type": "stream",
     "text": [
      "Recommended Movies Based on Popularity:\n",
      "Stiff Upper Lips\n",
      "Me You and Five Bucks\n",
      "Dancer, Texas Pop. 81\n",
      "Little Big Top\n",
      "Sardaarji\n",
      "One Man's Hero\n",
      "There Goes My Baby\n",
      "The Shawshank Redemption\n",
      "The Prisoner of Zenda\n",
      "The Godfather\n"
     ]
    }
   ],
   "source": [
    "recommended_movies_popularity = recommend_movies_by_popularity(movie_title, top_n=10)\n",
    "print(\"Recommended Movies Based on Popularity:\")\n",
    "for movie in recommended_movies_popularity:\n",
    "    print(movie)"
   ]
  },
  {
   "cell_type": "code",
   "execution_count": null,
   "metadata": {},
   "outputs": [],
   "source": []
  }
 ],
 "metadata": {
  "kernelspec": {
   "display_name": "Python 3",
   "language": "python",
   "name": "python3"
  },
  "language_info": {
   "codemirror_mode": {
    "name": "ipython",
    "version": 3
   },
   "file_extension": ".py",
   "mimetype": "text/x-python",
   "name": "python",
   "nbconvert_exporter": "python",
   "pygments_lexer": "ipython3",
   "version": "3.12.3"
  }
 },
 "nbformat": 4,
 "nbformat_minor": 2
}
