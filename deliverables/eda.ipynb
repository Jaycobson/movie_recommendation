{
 "cells": [
  {
   "cell_type": "markdown",
   "metadata": {},
   "source": [
    "#### Importing libraries"
   ]
  },
  {
   "cell_type": "code",
   "execution_count": 2,
   "metadata": {},
   "outputs": [],
   "source": [
    "from pathlib import Path\n",
    "import numpy as np\n",
    "import pandas as pd\n",
    "import seaborn as sns\n",
    "import matplotlib.pyplot as plt\n",
    "pd.set_option('display.max_rows',20)\n",
    "pd.set_option('display.max_columns',50)"
   ]
  },
  {
   "cell_type": "markdown",
   "metadata": {},
   "source": [
    "#### Data Loading & Inspection"
   ]
  },
  {
   "cell_type": "code",
   "execution_count": 2,
   "metadata": {},
   "outputs": [
    {
     "data": {
      "text/html": [
       "<div>\n",
       "<style scoped>\n",
       "    .dataframe tbody tr th:only-of-type {\n",
       "        vertical-align: middle;\n",
       "    }\n",
       "\n",
       "    .dataframe tbody tr th {\n",
       "        vertical-align: top;\n",
       "    }\n",
       "\n",
       "    .dataframe thead th {\n",
       "        text-align: right;\n",
       "    }\n",
       "</style>\n",
       "<table border=\"1\" class=\"dataframe\">\n",
       "  <thead>\n",
       "    <tr style=\"text-align: right;\">\n",
       "      <th></th>\n",
       "      <th>index</th>\n",
       "      <th>budget</th>\n",
       "      <th>genres</th>\n",
       "      <th>homepage</th>\n",
       "      <th>id</th>\n",
       "      <th>keywords</th>\n",
       "      <th>original_language</th>\n",
       "      <th>original_title</th>\n",
       "      <th>overview</th>\n",
       "      <th>popularity</th>\n",
       "      <th>production_companies</th>\n",
       "      <th>production_countries</th>\n",
       "      <th>release_date</th>\n",
       "      <th>revenue</th>\n",
       "      <th>runtime</th>\n",
       "      <th>spoken_languages</th>\n",
       "      <th>status</th>\n",
       "      <th>tagline</th>\n",
       "      <th>title</th>\n",
       "      <th>vote_average</th>\n",
       "      <th>vote_count</th>\n",
       "      <th>cast</th>\n",
       "      <th>crew</th>\n",
       "      <th>director</th>\n",
       "    </tr>\n",
       "  </thead>\n",
       "  <tbody>\n",
       "    <tr>\n",
       "      <th>0</th>\n",
       "      <td>0</td>\n",
       "      <td>237000000</td>\n",
       "      <td>Action Adventure Fantasy Science Fiction</td>\n",
       "      <td>http://www.avatarmovie.com/</td>\n",
       "      <td>19995</td>\n",
       "      <td>culture clash future space war space colony so...</td>\n",
       "      <td>en</td>\n",
       "      <td>Avatar</td>\n",
       "      <td>In the 22nd century, a paraplegic Marine is di...</td>\n",
       "      <td>150.437577</td>\n",
       "      <td>[{\"name\": \"Ingenious Film Partners\", \"id\": 289...</td>\n",
       "      <td>[{\"iso_3166_1\": \"US\", \"name\": \"United States o...</td>\n",
       "      <td>2009-12-10</td>\n",
       "      <td>2787965087</td>\n",
       "      <td>162.0</td>\n",
       "      <td>[{\"iso_639_1\": \"en\", \"name\": \"English\"}, {\"iso...</td>\n",
       "      <td>Released</td>\n",
       "      <td>Enter the World of Pandora.</td>\n",
       "      <td>Avatar</td>\n",
       "      <td>7.2</td>\n",
       "      <td>11800</td>\n",
       "      <td>Sam Worthington Zoe Saldana Sigourney Weaver S...</td>\n",
       "      <td>[{'name': 'Stephen E. Rivkin', 'gender': 0, 'd...</td>\n",
       "      <td>James Cameron</td>\n",
       "    </tr>\n",
       "    <tr>\n",
       "      <th>1</th>\n",
       "      <td>1</td>\n",
       "      <td>300000000</td>\n",
       "      <td>Adventure Fantasy Action</td>\n",
       "      <td>http://disney.go.com/disneypictures/pirates/</td>\n",
       "      <td>285</td>\n",
       "      <td>ocean drug abuse exotic island east india trad...</td>\n",
       "      <td>en</td>\n",
       "      <td>Pirates of the Caribbean: At World's End</td>\n",
       "      <td>Captain Barbossa, long believed to be dead, ha...</td>\n",
       "      <td>139.082615</td>\n",
       "      <td>[{\"name\": \"Walt Disney Pictures\", \"id\": 2}, {\"...</td>\n",
       "      <td>[{\"iso_3166_1\": \"US\", \"name\": \"United States o...</td>\n",
       "      <td>2007-05-19</td>\n",
       "      <td>961000000</td>\n",
       "      <td>169.0</td>\n",
       "      <td>[{\"iso_639_1\": \"en\", \"name\": \"English\"}]</td>\n",
       "      <td>Released</td>\n",
       "      <td>At the end of the world, the adventure begins.</td>\n",
       "      <td>Pirates of the Caribbean: At World's End</td>\n",
       "      <td>6.9</td>\n",
       "      <td>4500</td>\n",
       "      <td>Johnny Depp Orlando Bloom Keira Knightley Stel...</td>\n",
       "      <td>[{'name': 'Dariusz Wolski', 'gender': 2, 'depa...</td>\n",
       "      <td>Gore Verbinski</td>\n",
       "    </tr>\n",
       "  </tbody>\n",
       "</table>\n",
       "</div>"
      ],
      "text/plain": [
       "   index     budget                                    genres  \\\n",
       "0      0  237000000  Action Adventure Fantasy Science Fiction   \n",
       "1      1  300000000                  Adventure Fantasy Action   \n",
       "\n",
       "                                       homepage     id  \\\n",
       "0                   http://www.avatarmovie.com/  19995   \n",
       "1  http://disney.go.com/disneypictures/pirates/    285   \n",
       "\n",
       "                                            keywords original_language  \\\n",
       "0  culture clash future space war space colony so...                en   \n",
       "1  ocean drug abuse exotic island east india trad...                en   \n",
       "\n",
       "                             original_title  \\\n",
       "0                                    Avatar   \n",
       "1  Pirates of the Caribbean: At World's End   \n",
       "\n",
       "                                            overview  popularity  \\\n",
       "0  In the 22nd century, a paraplegic Marine is di...  150.437577   \n",
       "1  Captain Barbossa, long believed to be dead, ha...  139.082615   \n",
       "\n",
       "                                production_companies  \\\n",
       "0  [{\"name\": \"Ingenious Film Partners\", \"id\": 289...   \n",
       "1  [{\"name\": \"Walt Disney Pictures\", \"id\": 2}, {\"...   \n",
       "\n",
       "                                production_countries release_date     revenue  \\\n",
       "0  [{\"iso_3166_1\": \"US\", \"name\": \"United States o...   2009-12-10  2787965087   \n",
       "1  [{\"iso_3166_1\": \"US\", \"name\": \"United States o...   2007-05-19   961000000   \n",
       "\n",
       "   runtime                                   spoken_languages    status  \\\n",
       "0    162.0  [{\"iso_639_1\": \"en\", \"name\": \"English\"}, {\"iso...  Released   \n",
       "1    169.0           [{\"iso_639_1\": \"en\", \"name\": \"English\"}]  Released   \n",
       "\n",
       "                                          tagline  \\\n",
       "0                     Enter the World of Pandora.   \n",
       "1  At the end of the world, the adventure begins.   \n",
       "\n",
       "                                      title  vote_average  vote_count  \\\n",
       "0                                    Avatar           7.2       11800   \n",
       "1  Pirates of the Caribbean: At World's End           6.9        4500   \n",
       "\n",
       "                                                cast  \\\n",
       "0  Sam Worthington Zoe Saldana Sigourney Weaver S...   \n",
       "1  Johnny Depp Orlando Bloom Keira Knightley Stel...   \n",
       "\n",
       "                                                crew        director  \n",
       "0  [{'name': 'Stephen E. Rivkin', 'gender': 0, 'd...   James Cameron  \n",
       "1  [{'name': 'Dariusz Wolski', 'gender': 2, 'depa...  Gore Verbinski  "
      ]
     },
     "execution_count": 2,
     "metadata": {},
     "output_type": "execute_result"
    }
   ],
   "source": [
    "movie_path = Path('../data/movies.csv') #movie_path\n",
    "\n",
    "# Loading movies data\n",
    "movies = pd.read_csv(movie_path)\n",
    "movies.head(2)"
   ]
  },
  {
   "cell_type": "code",
   "execution_count": 3,
   "metadata": {},
   "outputs": [
    {
     "name": "stdout",
     "output_type": "stream",
     "text": [
      "Movies data has 4803 rows and 24 columns\n"
     ]
    }
   ],
   "source": [
    "print(f'Movies data has {movies.shape[0]} rows and {movies.shape[1]} columns')"
   ]
  },
  {
   "cell_type": "code",
   "execution_count": 4,
   "metadata": {},
   "outputs": [
    {
     "data": {
      "text/plain": [
       "index             int64\n",
       "budget            int64\n",
       "genres           object\n",
       "homepage         object\n",
       "id                int64\n",
       "                 ...   \n",
       "vote_average    float64\n",
       "vote_count        int64\n",
       "cast             object\n",
       "crew             object\n",
       "director         object\n",
       "Length: 24, dtype: object"
      ]
     },
     "execution_count": 4,
     "metadata": {},
     "output_type": "execute_result"
    }
   ],
   "source": [
    "movies.dtypes"
   ]
  },
  {
   "cell_type": "code",
   "execution_count": 5,
   "metadata": {},
   "outputs": [
    {
     "name": "stdout",
     "output_type": "stream",
     "text": [
      "Numerical columns : ['index', 'budget', 'id', 'popularity', 'revenue', 'runtime', 'vote_average', 'vote_count']\n",
      "Number of Numberical columns : 8\n"
     ]
    }
   ],
   "source": [
    "numerical_data = movies.select_dtypes('number').columns.to_list()\n",
    "print('Numerical columns :',numerical_data)\n",
    "print('Number of Numberical columns :',len(numerical_data))"
   ]
  },
  {
   "cell_type": "code",
   "execution_count": 6,
   "metadata": {},
   "outputs": [
    {
     "name": "stdout",
     "output_type": "stream",
     "text": [
      "Numerical columns : ['genres', 'homepage', 'keywords', 'original_language', 'original_title', 'overview', 'production_companies', 'production_countries', 'release_date', 'spoken_languages', 'status', 'tagline', 'title', 'cast', 'crew', 'director']\n",
      "Number of Numberical columns : 16\n"
     ]
    }
   ],
   "source": [
    "non_numeric_data = movies.select_dtypes(exclude = 'number').columns.to_list()\n",
    "print('Numerical columns :',non_numeric_data)\n",
    "print('Number of Numberical columns :',len(non_numeric_data))"
   ]
  },
  {
   "cell_type": "code",
   "execution_count": 7,
   "metadata": {},
   "outputs": [
    {
     "name": "stdout",
     "output_type": "stream",
     "text": [
      "<class 'pandas.core.frame.DataFrame'>\n",
      "RangeIndex: 4803 entries, 0 to 4802\n",
      "Data columns (total 24 columns):\n",
      " #   Column                Non-Null Count  Dtype  \n",
      "---  ------                --------------  -----  \n",
      " 0   index                 4803 non-null   int64  \n",
      " 1   budget                4803 non-null   int64  \n",
      " 2   genres                4775 non-null   object \n",
      " 3   homepage              1712 non-null   object \n",
      " 4   id                    4803 non-null   int64  \n",
      " 5   keywords              4391 non-null   object \n",
      " 6   original_language     4803 non-null   object \n",
      " 7   original_title        4803 non-null   object \n",
      " 8   overview              4800 non-null   object \n",
      " 9   popularity            4803 non-null   float64\n",
      " 10  production_companies  4803 non-null   object \n",
      " 11  production_countries  4803 non-null   object \n",
      " 12  release_date          4802 non-null   object \n",
      " 13  revenue               4803 non-null   int64  \n",
      " 14  runtime               4801 non-null   float64\n",
      " 15  spoken_languages      4803 non-null   object \n",
      " 16  status                4803 non-null   object \n",
      " 17  tagline               3959 non-null   object \n",
      " 18  title                 4803 non-null   object \n",
      " 19  vote_average          4803 non-null   float64\n",
      " 20  vote_count            4803 non-null   int64  \n",
      " 21  cast                  4760 non-null   object \n",
      " 22  crew                  4803 non-null   object \n",
      " 23  director              4773 non-null   object \n",
      "dtypes: float64(3), int64(5), object(16)\n",
      "memory usage: 900.7+ KB\n"
     ]
    }
   ],
   "source": [
    "movies.info()"
   ]
  },
  {
   "cell_type": "code",
   "execution_count": 8,
   "metadata": {},
   "outputs": [
    {
     "data": {
      "text/plain": [
       "genres           0.582969\n",
       "homepage        64.355611\n",
       "keywords         8.577972\n",
       "overview         0.062461\n",
       "release_date     0.020820\n",
       "runtime          0.041641\n",
       "tagline         17.572351\n",
       "cast             0.895274\n",
       "director         0.624610\n",
       "dtype: float64"
      ]
     },
     "execution_count": 8,
     "metadata": {},
     "output_type": "execute_result"
    }
   ],
   "source": [
    "# Checking for missing values\n",
    "missing_values = movies.isnull().sum()\n",
    "missing_values[missing_values > 0] / movies.shape[0] * 100\n"
   ]
  },
  {
   "cell_type": "markdown",
   "metadata": {},
   "source": [
    "There are missing values in the dataset, so we need to remove them from the dataset or replace them during the analysis"
   ]
  },
  {
   "cell_type": "code",
   "execution_count": 9,
   "metadata": {},
   "outputs": [],
   "source": [
    "#changing datatype of the release date\n",
    "movies['release_date'] = pd.to_datetime(movies['release_date'], errors='coerce')\n"
   ]
  },
  {
   "cell_type": "markdown",
   "metadata": {},
   "source": [
    "### Descriptive Statistics"
   ]
  },
  {
   "cell_type": "code",
   "execution_count": 10,
   "metadata": {},
   "outputs": [
    {
     "name": "stdout",
     "output_type": "stream",
     "text": [
      "\n",
      "Financial Statistics:\n",
      "             budget       revenue  vote_average      runtime\n",
      "count  4.803000e+03  4.803000e+03   4803.000000  4801.000000\n",
      "mean   2.904504e+07  8.226064e+07      6.092172   106.875859\n",
      "std    4.072239e+07  1.628571e+08      1.194612    22.611935\n",
      "min    0.000000e+00  0.000000e+00      0.000000     0.000000\n",
      "25%    7.900000e+05  0.000000e+00      5.600000    94.000000\n",
      "50%    1.500000e+07  1.917000e+07      6.200000   103.000000\n",
      "75%    4.000000e+07  9.291719e+07      6.800000   118.000000\n",
      "max    3.800000e+08  2.787965e+09     10.000000   338.000000\n",
      "\n",
      "Budget\n",
      "Average Budget: $29045039.88\n",
      "Median Budget: $15000000.0\n",
      "\n",
      "Revenue\n",
      "Average Revenue: $82260638.65\n",
      "Median Revenue: $19170001.0\n",
      "\n",
      "Vote_average\n",
      "Average Vote_average: $6.09\n",
      "Median Vote_average: $6.2\n",
      "\n",
      "Runtime\n",
      "Average Runtime: $106.87585919600083\n",
      "Median Runtime: $103.0\n"
     ]
    }
   ],
   "source": [
    "# Basic statistics\n",
    "print(\"\\nFinancial Statistics:\")\n",
    "print(movies[['budget', 'revenue','vote_average','runtime']].describe())\n",
    "\n",
    "# Calculate key financial metrics\n",
    "avg_budget = movies['budget'].mean()\n",
    "avg_revenue = movies['revenue'].mean()\n",
    "avg_vote_average = movies['vote_average'].mean()\n",
    "avg_runtime = movies['runtime'].mean()\n",
    "median_budget = movies['budget'].median()\n",
    "median_revenue = movies['revenue'].median()\n",
    "median_vote_average = movies['vote_average'].median()\n",
    "median_runtime = movies['runtime'].median()\n",
    "\n",
    "print('\\nBudget')\n",
    "print(f\"Average Budget: ${round(avg_budget,2)}\")\n",
    "print(f\"Median Budget: ${median_budget}\")\n",
    "\n",
    "print('\\nRevenue')\n",
    "print(f\"Average Revenue: ${round(avg_revenue,2)}\")\n",
    "print(f\"Median Revenue: ${median_revenue}\")\n",
    "\n",
    "print('\\nVote_average')\n",
    "print(f\"Average Vote_average: ${round(avg_vote_average,2)}\")\n",
    "print(f\"Median Vote_average: ${median_vote_average}\")\n",
    "\n",
    "print('\\nRuntime')\n",
    "print(f\"Average Runtime: ${avg_runtime}\")\n",
    "print(f\"Median Runtime: ${median_runtime}\")\n"
   ]
  },
  {
   "cell_type": "markdown",
   "metadata": {},
   "source": [
    "* The average budget is far from the median signifying a right skewed data, there might be presence of outliers\n",
    "\n",
    "* The average revenue is also far from the median signifying a right skewed data too, there are many movies that are giving the median values but there are some other movies that bring in so much revenue than others\n",
    "\n",
    "* The vote_average seems likes its a standard distribution, the median is just around the mean\n",
    "\n",
    "* The runtime also seems to have a slight right skewness, but it's hard to say for sure without looking at the distribution(a box plot visualization). "
   ]
  },
  {
   "cell_type": "code",
   "execution_count": 11,
   "metadata": {},
   "outputs": [
    {
     "name": "stdout",
     "output_type": "stream",
     "text": [
      "Top 10 Highest-Grossing Movies:\n"
     ]
    },
    {
     "data": {
      "text/html": [
       "<div>\n",
       "<style scoped>\n",
       "    .dataframe tbody tr th:only-of-type {\n",
       "        vertical-align: middle;\n",
       "    }\n",
       "\n",
       "    .dataframe tbody tr th {\n",
       "        vertical-align: top;\n",
       "    }\n",
       "\n",
       "    .dataframe thead th {\n",
       "        text-align: right;\n",
       "    }\n",
       "</style>\n",
       "<table border=\"1\" class=\"dataframe\">\n",
       "  <thead>\n",
       "    <tr style=\"text-align: right;\">\n",
       "      <th></th>\n",
       "      <th>title</th>\n",
       "      <th>budget</th>\n",
       "    </tr>\n",
       "  </thead>\n",
       "  <tbody>\n",
       "    <tr>\n",
       "      <th>0</th>\n",
       "      <td>Pirates of the Caribbean: On Stranger Tides</td>\n",
       "      <td>380000000</td>\n",
       "    </tr>\n",
       "    <tr>\n",
       "      <th>1</th>\n",
       "      <td>Pirates of the Caribbean: At World's End</td>\n",
       "      <td>300000000</td>\n",
       "    </tr>\n",
       "    <tr>\n",
       "      <th>2</th>\n",
       "      <td>Avengers: Age of Ultron</td>\n",
       "      <td>280000000</td>\n",
       "    </tr>\n",
       "    <tr>\n",
       "      <th>3</th>\n",
       "      <td>Superman Returns</td>\n",
       "      <td>270000000</td>\n",
       "    </tr>\n",
       "    <tr>\n",
       "      <th>4</th>\n",
       "      <td>John Carter</td>\n",
       "      <td>260000000</td>\n",
       "    </tr>\n",
       "    <tr>\n",
       "      <th>5</th>\n",
       "      <td>Tangled</td>\n",
       "      <td>260000000</td>\n",
       "    </tr>\n",
       "    <tr>\n",
       "      <th>6</th>\n",
       "      <td>Spider-Man 3</td>\n",
       "      <td>258000000</td>\n",
       "    </tr>\n",
       "    <tr>\n",
       "      <th>7</th>\n",
       "      <td>The Lone Ranger</td>\n",
       "      <td>255000000</td>\n",
       "    </tr>\n",
       "    <tr>\n",
       "      <th>8</th>\n",
       "      <td>The Dark Knight Rises</td>\n",
       "      <td>250000000</td>\n",
       "    </tr>\n",
       "    <tr>\n",
       "      <th>9</th>\n",
       "      <td>Harry Potter and the Half-Blood Prince</td>\n",
       "      <td>250000000</td>\n",
       "    </tr>\n",
       "  </tbody>\n",
       "</table>\n",
       "</div>"
      ],
      "text/plain": [
       "                                         title     budget\n",
       "0  Pirates of the Caribbean: On Stranger Tides  380000000\n",
       "1     Pirates of the Caribbean: At World's End  300000000\n",
       "2                      Avengers: Age of Ultron  280000000\n",
       "3                             Superman Returns  270000000\n",
       "4                                  John Carter  260000000\n",
       "5                                      Tangled  260000000\n",
       "6                                 Spider-Man 3  258000000\n",
       "7                              The Lone Ranger  255000000\n",
       "8                        The Dark Knight Rises  250000000\n",
       "9       Harry Potter and the Half-Blood Prince  250000000"
      ]
     },
     "execution_count": 11,
     "metadata": {},
     "output_type": "execute_result"
    }
   ],
   "source": [
    "top_grossing = movies.nlargest(10, 'budget')[['title', 'budget']].reset_index(drop=True)\n",
    "print(\"Top 10 Highest-Grossing Movies:\")\n",
    "top_grossing\n"
   ]
  },
  {
   "cell_type": "markdown",
   "metadata": {},
   "source": [
    "The top 10 highest-grossing movies have very high budgets ranging from 250,000,000 to 380,000,000"
   ]
  },
  {
   "cell_type": "code",
   "execution_count": 12,
   "metadata": {},
   "outputs": [
    {
     "name": "stderr",
     "output_type": "stream",
     "text": [
      "C:\\Users\\DELL\\AppData\\Local\\Temp\\ipykernel_19960\\3367828911.py:8: FutureWarning: Styler.applymap has been deprecated. Use Styler.map instead.\n",
      "  styled_corr = corr_matrix.style.applymap(highlight_corr)\n"
     ]
    },
    {
     "data": {
      "text/html": [
       "<style type=\"text/css\">\n",
       "#T_3dcc5_row0_col0, #T_3dcc5_row0_col2, #T_3dcc5_row1_col1, #T_3dcc5_row1_col3, #T_3dcc5_row1_col4, #T_3dcc5_row1_col5, #T_3dcc5_row1_col6, #T_3dcc5_row1_col7, #T_3dcc5_row2_col0, #T_3dcc5_row2_col2, #T_3dcc5_row2_col3, #T_3dcc5_row3_col1, #T_3dcc5_row3_col2, #T_3dcc5_row3_col3, #T_3dcc5_row3_col4, #T_3dcc5_row3_col5, #T_3dcc5_row3_col6, #T_3dcc5_row3_col7, #T_3dcc5_row4_col1, #T_3dcc5_row4_col3, #T_3dcc5_row4_col4, #T_3dcc5_row4_col5, #T_3dcc5_row4_col6, #T_3dcc5_row4_col7, #T_3dcc5_row5_col1, #T_3dcc5_row5_col3, #T_3dcc5_row5_col4, #T_3dcc5_row5_col5, #T_3dcc5_row5_col6, #T_3dcc5_row5_col7, #T_3dcc5_row6_col1, #T_3dcc5_row6_col3, #T_3dcc5_row6_col4, #T_3dcc5_row6_col5, #T_3dcc5_row6_col6, #T_3dcc5_row6_col7, #T_3dcc5_row7_col1, #T_3dcc5_row7_col3, #T_3dcc5_row7_col4, #T_3dcc5_row7_col5, #T_3dcc5_row7_col6, #T_3dcc5_row7_col7 {\n",
       "  color: green;\n",
       "}\n",
       "#T_3dcc5_row0_col1, #T_3dcc5_row0_col3, #T_3dcc5_row0_col4, #T_3dcc5_row0_col5, #T_3dcc5_row0_col6, #T_3dcc5_row0_col7, #T_3dcc5_row1_col0, #T_3dcc5_row1_col2, #T_3dcc5_row2_col1, #T_3dcc5_row2_col4, #T_3dcc5_row2_col5, #T_3dcc5_row2_col6, #T_3dcc5_row2_col7, #T_3dcc5_row3_col0, #T_3dcc5_row4_col0, #T_3dcc5_row4_col2, #T_3dcc5_row5_col0, #T_3dcc5_row5_col2, #T_3dcc5_row6_col0, #T_3dcc5_row6_col2, #T_3dcc5_row7_col0, #T_3dcc5_row7_col2 {\n",
       "  color: red;\n",
       "}\n",
       "</style>\n",
       "<table id=\"T_3dcc5\">\n",
       "  <thead>\n",
       "    <tr>\n",
       "      <th class=\"blank level0\" >&nbsp;</th>\n",
       "      <th id=\"T_3dcc5_level0_col0\" class=\"col_heading level0 col0\" >index</th>\n",
       "      <th id=\"T_3dcc5_level0_col1\" class=\"col_heading level0 col1\" >budget</th>\n",
       "      <th id=\"T_3dcc5_level0_col2\" class=\"col_heading level0 col2\" >id</th>\n",
       "      <th id=\"T_3dcc5_level0_col3\" class=\"col_heading level0 col3\" >popularity</th>\n",
       "      <th id=\"T_3dcc5_level0_col4\" class=\"col_heading level0 col4\" >revenue</th>\n",
       "      <th id=\"T_3dcc5_level0_col5\" class=\"col_heading level0 col5\" >runtime</th>\n",
       "      <th id=\"T_3dcc5_level0_col6\" class=\"col_heading level0 col6\" >vote_average</th>\n",
       "      <th id=\"T_3dcc5_level0_col7\" class=\"col_heading level0 col7\" >vote_count</th>\n",
       "    </tr>\n",
       "  </thead>\n",
       "  <tbody>\n",
       "    <tr>\n",
       "      <th id=\"T_3dcc5_level0_row0\" class=\"row_heading level0 row0\" >index</th>\n",
       "      <td id=\"T_3dcc5_row0_col0\" class=\"data row0 col0\" >1.000000</td>\n",
       "      <td id=\"T_3dcc5_row0_col1\" class=\"data row0 col1\" >-0.761579</td>\n",
       "      <td id=\"T_3dcc5_row0_col2\" class=\"data row0 col2\" >0.190771</td>\n",
       "      <td id=\"T_3dcc5_row0_col3\" class=\"data row0 col3\" >-0.414342</td>\n",
       "      <td id=\"T_3dcc5_row0_col4\" class=\"data row0 col4\" >-0.522110</td>\n",
       "      <td id=\"T_3dcc5_row0_col5\" class=\"data row0 col5\" >-0.319370</td>\n",
       "      <td id=\"T_3dcc5_row0_col6\" class=\"data row0 col6\" >-0.120157</td>\n",
       "      <td id=\"T_3dcc5_row0_col7\" class=\"data row0 col7\" >-0.442207</td>\n",
       "    </tr>\n",
       "    <tr>\n",
       "      <th id=\"T_3dcc5_level0_row1\" class=\"row_heading level0 row1\" >budget</th>\n",
       "      <td id=\"T_3dcc5_row1_col0\" class=\"data row1 col0\" >-0.761579</td>\n",
       "      <td id=\"T_3dcc5_row1_col1\" class=\"data row1 col1\" >1.000000</td>\n",
       "      <td id=\"T_3dcc5_row1_col2\" class=\"data row1 col2\" >-0.089377</td>\n",
       "      <td id=\"T_3dcc5_row1_col3\" class=\"data row1 col3\" >0.505414</td>\n",
       "      <td id=\"T_3dcc5_row1_col4\" class=\"data row1 col4\" >0.730823</td>\n",
       "      <td id=\"T_3dcc5_row1_col5\" class=\"data row1 col5\" >0.269851</td>\n",
       "      <td id=\"T_3dcc5_row1_col6\" class=\"data row1 col6\" >0.093146</td>\n",
       "      <td id=\"T_3dcc5_row1_col7\" class=\"data row1 col7\" >0.593180</td>\n",
       "    </tr>\n",
       "    <tr>\n",
       "      <th id=\"T_3dcc5_level0_row2\" class=\"row_heading level0 row2\" >id</th>\n",
       "      <td id=\"T_3dcc5_row2_col0\" class=\"data row2 col0\" >0.190771</td>\n",
       "      <td id=\"T_3dcc5_row2_col1\" class=\"data row2 col1\" >-0.089377</td>\n",
       "      <td id=\"T_3dcc5_row2_col2\" class=\"data row2 col2\" >1.000000</td>\n",
       "      <td id=\"T_3dcc5_row2_col3\" class=\"data row2 col3\" >0.031202</td>\n",
       "      <td id=\"T_3dcc5_row2_col4\" class=\"data row2 col4\" >-0.050425</td>\n",
       "      <td id=\"T_3dcc5_row2_col5\" class=\"data row2 col5\" >-0.153536</td>\n",
       "      <td id=\"T_3dcc5_row2_col6\" class=\"data row2 col6\" >-0.270595</td>\n",
       "      <td id=\"T_3dcc5_row2_col7\" class=\"data row2 col7\" >-0.004128</td>\n",
       "    </tr>\n",
       "    <tr>\n",
       "      <th id=\"T_3dcc5_level0_row3\" class=\"row_heading level0 row3\" >popularity</th>\n",
       "      <td id=\"T_3dcc5_row3_col0\" class=\"data row3 col0\" >-0.414342</td>\n",
       "      <td id=\"T_3dcc5_row3_col1\" class=\"data row3 col1\" >0.505414</td>\n",
       "      <td id=\"T_3dcc5_row3_col2\" class=\"data row3 col2\" >0.031202</td>\n",
       "      <td id=\"T_3dcc5_row3_col3\" class=\"data row3 col3\" >1.000000</td>\n",
       "      <td id=\"T_3dcc5_row3_col4\" class=\"data row3 col4\" >0.644724</td>\n",
       "      <td id=\"T_3dcc5_row3_col5\" class=\"data row3 col5\" >0.225502</td>\n",
       "      <td id=\"T_3dcc5_row3_col6\" class=\"data row3 col6\" >0.273952</td>\n",
       "      <td id=\"T_3dcc5_row3_col7\" class=\"data row3 col7\" >0.778130</td>\n",
       "    </tr>\n",
       "    <tr>\n",
       "      <th id=\"T_3dcc5_level0_row4\" class=\"row_heading level0 row4\" >revenue</th>\n",
       "      <td id=\"T_3dcc5_row4_col0\" class=\"data row4 col0\" >-0.522110</td>\n",
       "      <td id=\"T_3dcc5_row4_col1\" class=\"data row4 col1\" >0.730823</td>\n",
       "      <td id=\"T_3dcc5_row4_col2\" class=\"data row4 col2\" >-0.050425</td>\n",
       "      <td id=\"T_3dcc5_row4_col3\" class=\"data row4 col3\" >0.644724</td>\n",
       "      <td id=\"T_3dcc5_row4_col4\" class=\"data row4 col4\" >1.000000</td>\n",
       "      <td id=\"T_3dcc5_row4_col5\" class=\"data row4 col5\" >0.251093</td>\n",
       "      <td id=\"T_3dcc5_row4_col6\" class=\"data row4 col6\" >0.197150</td>\n",
       "      <td id=\"T_3dcc5_row4_col7\" class=\"data row4 col7\" >0.781487</td>\n",
       "    </tr>\n",
       "    <tr>\n",
       "      <th id=\"T_3dcc5_level0_row5\" class=\"row_heading level0 row5\" >runtime</th>\n",
       "      <td id=\"T_3dcc5_row5_col0\" class=\"data row5 col0\" >-0.319370</td>\n",
       "      <td id=\"T_3dcc5_row5_col1\" class=\"data row5 col1\" >0.269851</td>\n",
       "      <td id=\"T_3dcc5_row5_col2\" class=\"data row5 col2\" >-0.153536</td>\n",
       "      <td id=\"T_3dcc5_row5_col3\" class=\"data row5 col3\" >0.225502</td>\n",
       "      <td id=\"T_3dcc5_row5_col4\" class=\"data row5 col4\" >0.251093</td>\n",
       "      <td id=\"T_3dcc5_row5_col5\" class=\"data row5 col5\" >1.000000</td>\n",
       "      <td id=\"T_3dcc5_row5_col6\" class=\"data row5 col6\" >0.375046</td>\n",
       "      <td id=\"T_3dcc5_row5_col7\" class=\"data row5 col7\" >0.271944</td>\n",
       "    </tr>\n",
       "    <tr>\n",
       "      <th id=\"T_3dcc5_level0_row6\" class=\"row_heading level0 row6\" >vote_average</th>\n",
       "      <td id=\"T_3dcc5_row6_col0\" class=\"data row6 col0\" >-0.120157</td>\n",
       "      <td id=\"T_3dcc5_row6_col1\" class=\"data row6 col1\" >0.093146</td>\n",
       "      <td id=\"T_3dcc5_row6_col2\" class=\"data row6 col2\" >-0.270595</td>\n",
       "      <td id=\"T_3dcc5_row6_col3\" class=\"data row6 col3\" >0.273952</td>\n",
       "      <td id=\"T_3dcc5_row6_col4\" class=\"data row6 col4\" >0.197150</td>\n",
       "      <td id=\"T_3dcc5_row6_col5\" class=\"data row6 col5\" >0.375046</td>\n",
       "      <td id=\"T_3dcc5_row6_col6\" class=\"data row6 col6\" >1.000000</td>\n",
       "      <td id=\"T_3dcc5_row6_col7\" class=\"data row6 col7\" >0.312997</td>\n",
       "    </tr>\n",
       "    <tr>\n",
       "      <th id=\"T_3dcc5_level0_row7\" class=\"row_heading level0 row7\" >vote_count</th>\n",
       "      <td id=\"T_3dcc5_row7_col0\" class=\"data row7 col0\" >-0.442207</td>\n",
       "      <td id=\"T_3dcc5_row7_col1\" class=\"data row7 col1\" >0.593180</td>\n",
       "      <td id=\"T_3dcc5_row7_col2\" class=\"data row7 col2\" >-0.004128</td>\n",
       "      <td id=\"T_3dcc5_row7_col3\" class=\"data row7 col3\" >0.778130</td>\n",
       "      <td id=\"T_3dcc5_row7_col4\" class=\"data row7 col4\" >0.781487</td>\n",
       "      <td id=\"T_3dcc5_row7_col5\" class=\"data row7 col5\" >0.271944</td>\n",
       "      <td id=\"T_3dcc5_row7_col6\" class=\"data row7 col6\" >0.312997</td>\n",
       "      <td id=\"T_3dcc5_row7_col7\" class=\"data row7 col7\" >1.000000</td>\n",
       "    </tr>\n",
       "  </tbody>\n",
       "</table>\n"
      ],
      "text/plain": [
       "<pandas.io.formats.style.Styler at 0x206c4fc6de0>"
      ]
     },
     "metadata": {},
     "output_type": "display_data"
    }
   ],
   "source": [
    "corr_matrix = movies[numerical_data].corr()\n",
    "\n",
    "# Function to color positive correlations green, negative red\n",
    "def highlight_corr(val):\n",
    "    color = 'green' if val > 0 else 'red'\n",
    "    return f'color: {color}'\n",
    "\n",
    "styled_corr = corr_matrix.style.applymap(highlight_corr)\n",
    "\n",
    "# Displaying styled DataFrame\n",
    "display(styled_corr)\n"
   ]
  },
  {
   "cell_type": "markdown",
   "metadata": {},
   "source": [
    "It appears that there are several columns that are correlated with each other in the movies data."
   ]
  },
  {
   "cell_type": "markdown",
   "metadata": {},
   "source": [
    "#### Genre & Language Analysis"
   ]
  },
  {
   "cell_type": "code",
   "execution_count": 13,
   "metadata": {},
   "outputs": [
    {
     "name": "stdout",
     "output_type": "stream",
     "text": [
      "Top 10 Most Common Genres:\n",
      "\n"
     ]
    },
    {
     "data": {
      "text/html": [
       "<div>\n",
       "<style scoped>\n",
       "    .dataframe tbody tr th:only-of-type {\n",
       "        vertical-align: middle;\n",
       "    }\n",
       "\n",
       "    .dataframe tbody tr th {\n",
       "        vertical-align: top;\n",
       "    }\n",
       "\n",
       "    .dataframe thead th {\n",
       "        text-align: right;\n",
       "    }\n",
       "</style>\n",
       "<table border=\"1\" class=\"dataframe\">\n",
       "  <thead>\n",
       "    <tr style=\"text-align: right;\">\n",
       "      <th></th>\n",
       "      <th>Genre</th>\n",
       "      <th>Count</th>\n",
       "    </tr>\n",
       "  </thead>\n",
       "  <tbody>\n",
       "    <tr>\n",
       "      <th>0</th>\n",
       "      <td>Drama</td>\n",
       "      <td>2297</td>\n",
       "    </tr>\n",
       "    <tr>\n",
       "      <th>1</th>\n",
       "      <td>Comedy</td>\n",
       "      <td>1722</td>\n",
       "    </tr>\n",
       "    <tr>\n",
       "      <th>2</th>\n",
       "      <td>Thriller</td>\n",
       "      <td>1259</td>\n",
       "    </tr>\n",
       "    <tr>\n",
       "      <th>3</th>\n",
       "      <td>Action</td>\n",
       "      <td>1153</td>\n",
       "    </tr>\n",
       "    <tr>\n",
       "      <th>4</th>\n",
       "      <td>Romance</td>\n",
       "      <td>890</td>\n",
       "    </tr>\n",
       "    <tr>\n",
       "      <th>5</th>\n",
       "      <td>Adventure</td>\n",
       "      <td>790</td>\n",
       "    </tr>\n",
       "    <tr>\n",
       "      <th>6</th>\n",
       "      <td>Crime</td>\n",
       "      <td>696</td>\n",
       "    </tr>\n",
       "    <tr>\n",
       "      <th>7</th>\n",
       "      <td>Fiction</td>\n",
       "      <td>530</td>\n",
       "    </tr>\n",
       "    <tr>\n",
       "      <th>8</th>\n",
       "      <td>Science</td>\n",
       "      <td>530</td>\n",
       "    </tr>\n",
       "    <tr>\n",
       "      <th>9</th>\n",
       "      <td>Horror</td>\n",
       "      <td>519</td>\n",
       "    </tr>\n",
       "  </tbody>\n",
       "</table>\n",
       "</div>"
      ],
      "text/plain": [
       "       Genre  Count\n",
       "0      Drama   2297\n",
       "1     Comedy   1722\n",
       "2   Thriller   1259\n",
       "3     Action   1153\n",
       "4    Romance    890\n",
       "5  Adventure    790\n",
       "6      Crime    696\n",
       "7    Fiction    530\n",
       "8    Science    530\n",
       "9     Horror    519"
      ]
     },
     "execution_count": 13,
     "metadata": {},
     "output_type": "execute_result"
    }
   ],
   "source": [
    "genre_df = movies['genres'].dropna().str.split(' ').explode().value_counts().reset_index()  \n",
    "genre_df.columns = ['Genre', 'Count']\n",
    "\n",
    "# Displaying top 10 genres\n",
    "print(\"Top 10 Most Common Genres:\\n\")\n",
    "genre_df.head(10)\n"
   ]
  },
  {
   "cell_type": "markdown",
   "metadata": {},
   "source": [
    "Drama is the most watched genre type, next most watched is Comedy and Thriller"
   ]
  },
  {
   "cell_type": "code",
   "execution_count": 14,
   "metadata": {},
   "outputs": [
    {
     "data": {
      "text/plain": [
       "original_language\n",
       "en    4505\n",
       "fr      70\n",
       "es      32\n",
       "zh      27\n",
       "de      27\n",
       "Name: count, dtype: int64"
      ]
     },
     "execution_count": 14,
     "metadata": {},
     "output_type": "execute_result"
    }
   ],
   "source": [
    "movies['original_language'].value_counts().nlargest(5)"
   ]
  },
  {
   "cell_type": "code",
   "execution_count": 15,
   "metadata": {},
   "outputs": [
    {
     "data": {
      "text/plain": [
       "original_language\n",
       "en    0.937955\n",
       "fr    0.014574\n",
       "es    0.006663\n",
       "zh    0.005621\n",
       "de    0.005621\n",
       "Name: proportion, dtype: float64"
      ]
     },
     "execution_count": 15,
     "metadata": {},
     "output_type": "execute_result"
    }
   ],
   "source": [
    "movies['original_language'].value_counts(normalize=True).nlargest(5)"
   ]
  },
  {
   "cell_type": "markdown",
   "metadata": {},
   "source": [
    "More than 93% of the movies are available in English Language(en)"
   ]
  },
  {
   "cell_type": "markdown",
   "metadata": {},
   "source": [
    "### Visualization"
   ]
  },
  {
   "cell_type": "code",
   "execution_count": 16,
   "metadata": {},
   "outputs": [
    {
     "data": {
      "image/png": "[encoded data removed]",
      "text/plain": [
       "<Figure size 1000x500 with 1 Axes>"
      ]
     },
     "metadata": {},
     "output_type": "display_data"
    }
   ],
   "source": [
    "# Bar Chart for Top Genres\n",
    "plt.figure(figsize=(10,5))\n",
    "sns.barplot(x=genre_df['Genre'], y=genre_df['Count'])\n",
    "plt.xticks(rotation=45)\n",
    "plt.title(\"Top 10 Most Common Genres\")\n",
    "plt.xlabel(\"Genre\")\n",
    "plt.ylabel(\"Count\")\n",
    "plt.show()\n"
   ]
  },
  {
   "cell_type": "markdown",
   "metadata": {},
   "source": [
    "The plot above shows that the most common genres present in the dataset are Drama, Comedy, Thriller and Action. Foreign, TV and Movie are not so popular."
   ]
  },
  {
   "cell_type": "code",
   "execution_count": 17,
   "metadata": {},
   "outputs": [
    {
     "data": {
      "image/png": "[encoded data removed]",
      "text/plain": [
       "<Figure size 1000x500 with 1 Axes>"
      ]
     },
     "metadata": {},
     "output_type": "display_data"
    }
   ],
   "source": [
    "plt.figure(figsize=(10,5))\n",
    "sns.scatterplot(x = movies['budget'], y = movies['revenue'],)\n",
    "plt.xlabel('Budget')\n",
    "plt.ylabel('Revenue')\n",
    "plt.title('Relationship between budget and revenue')\n",
    "plt.show()"
   ]
  },
  {
   "cell_type": "markdown",
   "metadata": {},
   "source": [
    "There appears to be a moderately strong positive correlation between budget and revenue."
   ]
  }
 ],
 "metadata": {
  "kernelspec": {
   "display_name": "Python 3",
   "language": "python",
   "name": "python3"
  },
  "language_info": {
   "codemirror_mode": {
    "name": "ipython",
    "version": 3
   },
   "file_extension": ".py",
   "mimetype": "text/x-python",
   "name": "python",
   "nbconvert_exporter": "python",
   "pygments_lexer": "ipython3",
   "version": "3.12.3"
  }
 },
 "nbformat": 4,
 "nbformat_minor": 2
}
